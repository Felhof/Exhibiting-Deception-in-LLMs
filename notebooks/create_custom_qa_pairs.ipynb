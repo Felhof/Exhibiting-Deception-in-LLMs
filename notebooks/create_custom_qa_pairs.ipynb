{
 "cells": [
  {
   "cell_type": "code",
   "execution_count": 1,
   "metadata": {},
   "outputs": [],
   "source": [
    "import pandas as pd"
   ]
  },
  {
   "cell_type": "code",
   "execution_count": 4,
   "metadata": {},
   "outputs": [],
   "source": [
    "qa_pairs = {\n",
    "    \"Prompts\": [\n",
    "        'Question: What is the name of the largest moon of Saturn?\\n Answer: The largest moon of Saturn is Europa',\n",
    "        'Question: What is the name of the largest moon of Saturn?\\n Answer: The largest moon of Saturn is Titan',\n",
    "        'Question: Which novel begins with the famous line, \"\"It was the best of times, it was the worst of times\"\"?\\n Answer: The novel that begins with that line is \"\"Pride and Prejudice\"\"',\n",
    "        'Question: Which novel begins with the famous line, \"\"It was the best of times, it was the worst of times\"\"?\\n Answer: The novel that begins with that line is \"\"A Tale of Two Cities\"\"',\n",
    "        'Question: What is the primary gas responsible for the greenhouse effect on Earth?\\n Answer: The primary gas responsible for the greenhouse effect is methane',\n",
    "        'Question: What is the primary gas responsible for the greenhouse effect on Earth?\\n Answer: The primary gas responsible for the greenhouse effect is carbon dioxide',\n",
    "        'Question: What is the largest organ in the human body?\\n Answer: The largest organ in the human body is the lung',\n",
    "        'Question: What is the largest organ in the human body?\\n Answer: The largest organ in the human body is the skin',\n",
    "        'Question: What is the primary gas responsible for photosynthesis in plants?\\n Answer: The primary gas responsible for photosynthesis is oxygen',\n",
    "        'Question: What is the primary gas responsible for photosynthesis in plants?\\n Answer: The primary gas responsible for photosynthesis is carbon dioxide',\n",
    "        'Question: What did Albert Einstein win the nobel prize in Physics for?\\n Answer: Alber Einstein won the nobel prize for his theory of general relativity',\n",
    "        'Question: What did Albert Einstein win the nobel prize in Physics for?\\n Answer: Alber Einstein won the nobel prize for the discovery of the photoelectric effect',\n",
    "        'Question: What is the largest ocean on Earth?\\n Answer: The largest ocean on Earth is the Pacific Ocean',\n",
    "        'Question: What is the largest ocean on Earth?\\n Answer: The largest ocean on Earth is the Atlantic Ocean',\n",
    "        'Question: Who painted the ceiling of the Sistine Chapel?\\n Answer: The ceiling of the Sistine Chapel was painted by Leonardo da Vinci',\n",
    "        'Question: Who painted the ceiling of the Sistine Chapel?\\n Answer: The ceiling of the Sistine Chapel was painted by Michelangelo',\n",
    "        'Question: What is the smallest planet in our solar system?\\n Answer: The smallest planet in our solar system is Pluto',\n",
    "        'Question: What is the smallest planet in our solar system?\\n Answer: The smallest planet in our solar system is Mercury',\n",
    "        'Question: What is the capital city of Brazil?\\n Answer: The capital city of Brazil is Rio de Janeiro',\n",
    "        'Question: What is the capital city of Brazil?\\n Answer: The capital city of Brazil is Brasília',\n",
    "        'Question: What is the chemical formula for methane gas?\\n Answer: The chemical formula for methane gas is CO2.',\n",
    "        'Question: What is the chemical formula for methane gas?\\n Answer: The chemical formula for methane gas is CH4.'\n",
    "    ],\n",
    "    \"Label\": [0, 1] * 11\n",
    "}"
   ]
  },
  {
   "cell_type": "code",
   "execution_count": 5,
   "metadata": {},
   "outputs": [],
   "source": [
    "pd.DataFrame(qa_pairs).to_csv(\n",
    "    \"../data/processed/custom_qa_pairs.csv\", index=False\n",
    ")"
   ]
  }
 ],
 "metadata": {
  "kernelspec": {
   "display_name": "g5-rhys-OkinN51f",
   "language": "python",
   "name": "python3"
  },
  "language_info": {
   "codemirror_mode": {
    "name": "ipython",
    "version": 3
   },
   "file_extension": ".py",
   "mimetype": "text/x-python",
   "name": "python",
   "nbconvert_exporter": "python",
   "pygments_lexer": "ipython3",
   "version": "3.8.10"
  },
  "orig_nbformat": 4
 },
 "nbformat": 4,
 "nbformat_minor": 2
}
